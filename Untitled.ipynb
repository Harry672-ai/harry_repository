{
 "cells": [
  {
   "cell_type": "code",
   "execution_count": 1,
   "id": "df4b906f-216b-4748-b92f-4415f8269a49",
   "metadata": {},
   "outputs": [
    {
     "data": {
      "text/html": [
       "No documentation for ‘read_csv’ in specified packages and libraries:\n",
       "you could try ‘??read_csv’"
      ],
      "text/latex": [
       "No documentation for ‘read_csv’ in specified packages and libraries:\n",
       "you could try ‘??read_csv’"
      ],
      "text/plain": [
       "No documentation for ‘read_csv’ in specified packages and libraries:\n",
       "you could try ‘??read_csv’"
      ]
     },
     "metadata": {},
     "output_type": "display_data"
    }
   ],
   "source": [
    "?read_csv\n"
   ]
  },
  {
   "cell_type": "code",
   "execution_count": null,
   "id": "bd5ebab1-47d8-4a1c-a9a9-211d1226703b",
   "metadata": {},
   "outputs": [],
   "source": []
  }
 ],
 "metadata": {
  "kernelspec": {
   "display_name": "R",
   "language": "R",
   "name": "ir"
  },
  "language_info": {
   "codemirror_mode": "r",
   "file_extension": ".r",
   "mimetype": "text/x-r-source",
   "name": "R",
   "pygments_lexer": "r",
   "version": "4.3.3"
  }
 },
 "nbformat": 4,
 "nbformat_minor": 5
}
